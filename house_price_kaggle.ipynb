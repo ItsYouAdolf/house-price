{
 "cells": [
  {
   "cell_type": "code",
   "execution_count": 119,
   "id": "c08e69d6-8139-4f92-b6af-57f1344495a2",
   "metadata": {
    "tags": []
   },
   "outputs": [],
   "source": [
    "import pandas as pd"
   ]
  },
  {
   "cell_type": "code",
   "execution_count": 120,
   "id": "c387dda4-ea90-41fa-ad67-63ad17625cfc",
   "metadata": {
    "tags": []
   },
   "outputs": [],
   "source": [
    "df = pd.read_csv('~/Downloads/house-prices-advanced/train.csv')"
   ]
  },
  {
   "cell_type": "code",
   "execution_count": 121,
   "id": "0ab2be4b-729d-48b2-9b6b-31578b66dc3a",
   "metadata": {
    "tags": []
   },
   "outputs": [],
   "source": [
    "df = df.drop(['Id', 'Street', 'Alley', 'Utilities', 'PoolQC', 'PavedDrive',\n",
    "              'LandSlope', 'Fence', 'LandContour', 'SaleType', \n",
    "               '3SsnPorch', 'MiscVal', 'MiscFeature', \n",
    "               'ExterCond',  'GarageQual', 'GarageCond',  'BldgType',    \n",
    "             'BsmtCond', 'BsmtFinType2', 'RoofStyle',  'KitchenAbvGr',\n",
    "              'LotShape', 'Exterior1st', 'Exterior2nd', 'MasVnrType',\n",
    "                'ExterQual', 'BsmtFinSF1', 'BsmtFinSF2', 'BsmtHalfBath', \n",
    "              'BedroomAbvGr', 'Fireplaces', 'GarageYrBlt', 'GarageCars', 'WoodDeckSF'\n",
    "              ], axis=1)"
   ]
  },
  {
   "cell_type": "code",
   "execution_count": 122,
   "id": "3cc3e254-8133-49a4-a259-3d59a5525458",
   "metadata": {
    "tags": []
   },
   "outputs": [],
   "source": [
    "import statistics"
   ]
  },
  {
   "cell_type": "code",
   "execution_count": 123,
   "id": "30a73156-3dff-442d-a3cd-f802c5916675",
   "metadata": {
    "tags": []
   },
   "outputs": [],
   "source": [
    "df.LotFrontage = df.LotFrontage.fillna(df['LotFrontage'].median())\n",
    "df['BsmtQual'] = df['BsmtQual'].fillna('other')\n",
    "df['BsmtExposure'] = df['BsmtExposure'].fillna('other')\n",
    "df['BsmtFinType1'] = df['BsmtFinType1'].fillna('other')\n",
    "df['FireplaceQu'] = df['FireplaceQu'].fillna('other')\n",
    "df['GarageType'] = df['GarageType'].fillna('other')\n",
    "df['GarageFinish'] = df['GarageFinish'].fillna('other')"
   ]
  },
  {
   "cell_type": "code",
   "execution_count": 124,
   "id": "6cd23761-40c1-435e-afa7-98d576bb8eb2",
   "metadata": {
    "tags": []
   },
   "outputs": [],
   "source": [
    "df = df.dropna()"
   ]
  },
  {
   "cell_type": "code",
   "execution_count": 125,
   "id": "112527c0-fe0c-4a14-a365-f897f0a050b5",
   "metadata": {
    "tags": []
   },
   "outputs": [],
   "source": [
    "def calculate_boundaries(series):\n",
    "  q25 = series.quantile(0.25)\n",
    "  q75 = series.quantile(0.75)\n",
    "  iqr = q75 - q25\n",
    "\n",
    "  boundaries = (q25 - 1.5 * iqr, q75 + 1.5 * iqr)\n",
    "  return boundaries"
   ]
  },
  {
   "cell_type": "code",
   "execution_count": 126,
   "id": "28653222-ed45-45af-8041-49686da376a6",
   "metadata": {
    "tags": []
   },
   "outputs": [
    {
     "data": {
      "text/plain": [
       "(3750.0, 340150.0)"
      ]
     },
     "execution_count": 126,
     "metadata": {},
     "output_type": "execute_result"
    }
   ],
   "source": [
    "SalePrice = calculate_boundaries(df['SalePrice'])\n",
    "SalePrice"
   ]
  },
  {
   "cell_type": "code",
   "execution_count": 127,
   "id": "fa4dd4c5-9448-4193-b698-571da40a7f90",
   "metadata": {
    "tags": []
   },
   "outputs": [
    {
     "data": {
      "text/plain": [
       "60"
      ]
     },
     "execution_count": 127,
     "metadata": {},
     "output_type": "execute_result"
    }
   ],
   "source": [
    "is_outlier = (df.SalePrice > int(SalePrice[1]))\n",
    "is_outlier.sum()"
   ]
  },
  {
   "cell_type": "code",
   "execution_count": 128,
   "id": "f1eb90d6-7c58-4b5f-8a6f-ecaf83887c88",
   "metadata": {
    "tags": []
   },
   "outputs": [],
   "source": [
    "df.loc[is_outlier, 'SalePrice'] = int(SalePrice[1])"
   ]
  },
  {
   "cell_type": "code",
   "execution_count": 129,
   "id": "66a5f69a-c835-4238-a1b4-a52ca91f8a69",
   "metadata": {
    "tags": []
   },
   "outputs": [
    {
     "data": {
      "text/plain": [
       "(1443.75, 17693.75)"
      ]
     },
     "execution_count": 129,
     "metadata": {},
     "output_type": "execute_result"
    }
   ],
   "source": [
    "LotArea = calculate_boundaries(df['LotArea'])\n",
    "LotArea"
   ]
  },
  {
   "cell_type": "code",
   "execution_count": 130,
   "id": "144f05c9-87eb-4ac4-acc5-7be93b7b9873",
   "metadata": {
    "tags": []
   },
   "outputs": [
    {
     "data": {
      "text/plain": [
       "1"
      ]
     },
     "execution_count": 130,
     "metadata": {},
     "output_type": "execute_result"
    }
   ],
   "source": [
    "is_outlier = (df.LotArea < int(LotArea[0]))\n",
    "is_outlier.sum()"
   ]
  },
  {
   "cell_type": "code",
   "execution_count": 131,
   "id": "409860ee-417d-43fc-9176-80a8975197c2",
   "metadata": {
    "tags": []
   },
   "outputs": [],
   "source": [
    "df.loc[is_outlier, 'LotArea'] = int(LotArea[0])"
   ]
  },
  {
   "cell_type": "code",
   "execution_count": 132,
   "id": "0e7537ba-8c6d-49e8-9fff-e7da859146ad",
   "metadata": {
    "tags": []
   },
   "outputs": [
    {
     "data": {
      "text/plain": [
       "66"
      ]
     },
     "execution_count": 132,
     "metadata": {},
     "output_type": "execute_result"
    }
   ],
   "source": [
    "is_outlier = (df.LotArea > int(LotArea[1]))\n",
    "is_outlier.sum()"
   ]
  },
  {
   "cell_type": "code",
   "execution_count": 133,
   "id": "e24fcbff-fe7d-4338-a8e5-4959cee8986d",
   "metadata": {
    "tags": []
   },
   "outputs": [],
   "source": [
    "df.loc[is_outlier, 'LotArea'] = int(LotArea[1])"
   ]
  },
  {
   "cell_type": "code",
   "execution_count": null,
   "id": "fde85dbf-3d03-4734-8806-40be731f3327",
   "metadata": {},
   "outputs": [],
   "source": []
  },
  {
   "cell_type": "code",
   "execution_count": 134,
   "id": "1165466d-4576-46ec-bfe9-6cc8f1eb2411",
   "metadata": {
    "tags": []
   },
   "outputs": [
    {
     "data": {
      "text/plain": [
       "(156.0, 2748.0)"
      ]
     },
     "execution_count": 134,
     "metadata": {},
     "output_type": "execute_result"
    }
   ],
   "source": [
    "GrLivArea = calculate_boundaries(df['GrLivArea'])\n",
    "GrLivArea"
   ]
  },
  {
   "cell_type": "code",
   "execution_count": 135,
   "id": "c87e7793-14e1-4629-bc3c-02d46b566013",
   "metadata": {
    "tags": []
   },
   "outputs": [
    {
     "data": {
      "text/plain": [
       "1420"
      ]
     },
     "execution_count": 135,
     "metadata": {},
     "output_type": "execute_result"
    }
   ],
   "source": [
    "is_outlier = (df.GrLivArea < int(GrLivArea[1]))\n",
    "is_outlier.sum()"
   ]
  },
  {
   "cell_type": "code",
   "execution_count": 136,
   "id": "6f81b185-6919-4aaf-8374-8d78432cf123",
   "metadata": {
    "tags": []
   },
   "outputs": [],
   "source": [
    "df.loc[is_outlier, 'GrLivArea'] = int(GrLivArea[1])"
   ]
  },
  {
   "cell_type": "code",
   "execution_count": 137,
   "id": "d446f0c7-fe2d-426a-bfd1-4582fb7e332b",
   "metadata": {
    "tags": []
   },
   "outputs": [
    {
     "data": {
      "text/plain": [
       "31"
      ]
     },
     "execution_count": 137,
     "metadata": {},
     "output_type": "execute_result"
    }
   ],
   "source": [
    "is_outlier = (df.GrLivArea > int(GrLivArea[1]))\n",
    "is_outlier.sum()"
   ]
  },
  {
   "cell_type": "code",
   "execution_count": 138,
   "id": "7c09f875-7716-4c39-84f3-0aa4711ecf88",
   "metadata": {
    "tags": []
   },
   "outputs": [],
   "source": [
    "df.loc[is_outlier, 'GrLivArea'] = int(GrLivArea[0])"
   ]
  },
  {
   "cell_type": "code",
   "execution_count": 139,
   "id": "6bb0d915-6fde-4a3a-af3a-22463993d444",
   "metadata": {
    "tags": []
   },
   "outputs": [],
   "source": [
    "#df = df.drop(['', ''], axis=1)"
   ]
  },
  {
   "cell_type": "code",
   "execution_count": 140,
   "id": "6dbfbc93-7f9b-4bbb-952a-18fba84beba7",
   "metadata": {
    "tags": []
   },
   "outputs": [],
   "source": [
    "num = df.select_dtypes(['int', 'float']).columns"
   ]
  },
  {
   "cell_type": "code",
   "execution_count": 141,
   "id": "2d994c2e-4f7f-4dd9-bdbb-f98f832a7caa",
   "metadata": {
    "tags": []
   },
   "outputs": [
    {
     "data": {
      "text/plain": [
       "Index(['MSZoning', 'LotConfig', 'Neighborhood', 'Condition1', 'Condition2',\n",
       "       'HouseStyle', 'RoofMatl', 'Foundation', 'BsmtQual', 'BsmtExposure',\n",
       "       'BsmtFinType1', 'Heating', 'HeatingQC', 'CentralAir', 'Electrical',\n",
       "       'KitchenQual', 'Functional', 'FireplaceQu', 'GarageType',\n",
       "       'GarageFinish', 'SaleCondition'],\n",
       "      dtype='object')"
      ]
     },
     "execution_count": 141,
     "metadata": {},
     "output_type": "execute_result"
    }
   ],
   "source": [
    "df.select_dtypes(['object', 'category']).columns"
   ]
  },
  {
   "cell_type": "code",
   "execution_count": 142,
   "id": "44ead919-df6f-4b74-a976-f4327546cbaa",
   "metadata": {
    "tags": []
   },
   "outputs": [
    {
     "data": {
      "text/plain": [
       "Index(['MSSubClass', 'LotFrontage', 'LotArea', 'OverallQual', 'OverallCond',\n",
       "       'YearBuilt', 'YearRemodAdd', 'MasVnrArea', 'BsmtUnfSF', 'TotalBsmtSF',\n",
       "       '1stFlrSF', '2ndFlrSF', 'LowQualFinSF', 'GrLivArea', 'BsmtFullBath',\n",
       "       'FullBath', 'HalfBath', 'TotRmsAbvGrd', 'GarageArea', 'OpenPorchSF',\n",
       "       'EnclosedPorch', 'ScreenPorch', 'PoolArea', 'MoSold', 'YrSold',\n",
       "       'SalePrice'],\n",
       "      dtype='object')"
      ]
     },
     "execution_count": 142,
     "metadata": {},
     "output_type": "execute_result"
    }
   ],
   "source": [
    "df.select_dtypes(['int', 'float']).columns"
   ]
  },
  {
   "cell_type": "code",
   "execution_count": 143,
   "id": "9b4a31b0-8c28-47e8-ba3f-e8701ca2a989",
   "metadata": {
    "tags": []
   },
   "outputs": [],
   "source": [
    "st = ['MSZoning', 'LotConfig', 'Neighborhood', 'Condition1', 'Condition2',\n",
    "       'HouseStyle', 'RoofMatl', 'Foundation', 'BsmtQual', 'BsmtExposure',\n",
    "       'BsmtFinType1', 'Heating', 'HeatingQC', 'CentralAir', 'Electrical',\n",
    "       'KitchenQual', 'Functional', 'FireplaceQu', 'GarageType',\n",
    "       'GarageFinish', 'SaleCondition']"
   ]
  },
  {
   "cell_type": "code",
   "execution_count": 144,
   "id": "541b5775-0479-4027-bb95-e6f12dd41e68",
   "metadata": {
    "tags": []
   },
   "outputs": [],
   "source": [
    "st += ['MSSubClass', 'OverallCond', 'BsmtFullBath', 'FullBath', 'HalfBath', 'TotRmsAbvGrd']"
   ]
  },
  {
   "cell_type": "markdown",
   "id": "e4ebd87f-9a5d-45a2-8f44-3dddb9e20f45",
   "metadata": {
    "tags": []
   },
   "source": [
    "### preproces"
   ]
  },
  {
   "cell_type": "code",
   "execution_count": 145,
   "id": "6ec143b2-f8ff-483b-80b6-84764416f818",
   "metadata": {
    "tags": []
   },
   "outputs": [],
   "source": [
    "from sklearn.preprocessing import MinMaxScaler, OneHotEncoder"
   ]
  },
  {
   "cell_type": "code",
   "execution_count": null,
   "id": "5deb4f94-a447-463e-85ae-e3358d8948ab",
   "metadata": {},
   "outputs": [],
   "source": []
  },
  {
   "cell_type": "code",
   "execution_count": 146,
   "id": "af61d76e-6561-4a16-a487-ddbaaf434cf0",
   "metadata": {
    "tags": []
   },
   "outputs": [],
   "source": [
    "ohe = OneHotEncoder(sparse_output=False)"
   ]
  },
  {
   "cell_type": "code",
   "execution_count": 147,
   "id": "d6a522d2-842f-451c-a514-bdb041bda942",
   "metadata": {
    "tags": []
   },
   "outputs": [
    {
     "data": {
      "text/html": [
       "<style>#sk-container-id-3 {color: black;}#sk-container-id-3 pre{padding: 0;}#sk-container-id-3 div.sk-toggleable {background-color: white;}#sk-container-id-3 label.sk-toggleable__label {cursor: pointer;display: block;width: 100%;margin-bottom: 0;padding: 0.3em;box-sizing: border-box;text-align: center;}#sk-container-id-3 label.sk-toggleable__label-arrow:before {content: \"▸\";float: left;margin-right: 0.25em;color: #696969;}#sk-container-id-3 label.sk-toggleable__label-arrow:hover:before {color: black;}#sk-container-id-3 div.sk-estimator:hover label.sk-toggleable__label-arrow:before {color: black;}#sk-container-id-3 div.sk-toggleable__content {max-height: 0;max-width: 0;overflow: hidden;text-align: left;background-color: #f0f8ff;}#sk-container-id-3 div.sk-toggleable__content pre {margin: 0.2em;color: black;border-radius: 0.25em;background-color: #f0f8ff;}#sk-container-id-3 input.sk-toggleable__control:checked~div.sk-toggleable__content {max-height: 200px;max-width: 100%;overflow: auto;}#sk-container-id-3 input.sk-toggleable__control:checked~label.sk-toggleable__label-arrow:before {content: \"▾\";}#sk-container-id-3 div.sk-estimator input.sk-toggleable__control:checked~label.sk-toggleable__label {background-color: #d4ebff;}#sk-container-id-3 div.sk-label input.sk-toggleable__control:checked~label.sk-toggleable__label {background-color: #d4ebff;}#sk-container-id-3 input.sk-hidden--visually {border: 0;clip: rect(1px 1px 1px 1px);clip: rect(1px, 1px, 1px, 1px);height: 1px;margin: -1px;overflow: hidden;padding: 0;position: absolute;width: 1px;}#sk-container-id-3 div.sk-estimator {font-family: monospace;background-color: #f0f8ff;border: 1px dotted black;border-radius: 0.25em;box-sizing: border-box;margin-bottom: 0.5em;}#sk-container-id-3 div.sk-estimator:hover {background-color: #d4ebff;}#sk-container-id-3 div.sk-parallel-item::after {content: \"\";width: 100%;border-bottom: 1px solid gray;flex-grow: 1;}#sk-container-id-3 div.sk-label:hover label.sk-toggleable__label {background-color: #d4ebff;}#sk-container-id-3 div.sk-serial::before {content: \"\";position: absolute;border-left: 1px solid gray;box-sizing: border-box;top: 0;bottom: 0;left: 50%;z-index: 0;}#sk-container-id-3 div.sk-serial {display: flex;flex-direction: column;align-items: center;background-color: white;padding-right: 0.2em;padding-left: 0.2em;position: relative;}#sk-container-id-3 div.sk-item {position: relative;z-index: 1;}#sk-container-id-3 div.sk-parallel {display: flex;align-items: stretch;justify-content: center;background-color: white;position: relative;}#sk-container-id-3 div.sk-item::before, #sk-container-id-3 div.sk-parallel-item::before {content: \"\";position: absolute;border-left: 1px solid gray;box-sizing: border-box;top: 0;bottom: 0;left: 50%;z-index: -1;}#sk-container-id-3 div.sk-parallel-item {display: flex;flex-direction: column;z-index: 1;position: relative;background-color: white;}#sk-container-id-3 div.sk-parallel-item:first-child::after {align-self: flex-end;width: 50%;}#sk-container-id-3 div.sk-parallel-item:last-child::after {align-self: flex-start;width: 50%;}#sk-container-id-3 div.sk-parallel-item:only-child::after {width: 0;}#sk-container-id-3 div.sk-dashed-wrapped {border: 1px dashed gray;margin: 0 0.4em 0.5em 0.4em;box-sizing: border-box;padding-bottom: 0.4em;background-color: white;}#sk-container-id-3 div.sk-label label {font-family: monospace;font-weight: bold;display: inline-block;line-height: 1.2em;}#sk-container-id-3 div.sk-label-container {text-align: center;}#sk-container-id-3 div.sk-container {/* jupyter's `normalize.less` sets `[hidden] { display: none; }` but bootstrap.min.css set `[hidden] { display: none !important; }` so we also need the `!important` here to be able to override the default hidden behavior on the sphinx rendered scikit-learn.org. See: https://github.com/scikit-learn/scikit-learn/issues/21755 */display: inline-block !important;position: relative;}#sk-container-id-3 div.sk-text-repr-fallback {display: none;}</style><div id=\"sk-container-id-3\" class=\"sk-top-container\"><div class=\"sk-text-repr-fallback\"><pre>OneHotEncoder(sparse_output=False)</pre><b>In a Jupyter environment, please rerun this cell to show the HTML representation or trust the notebook. <br />On GitHub, the HTML representation is unable to render, please try loading this page with nbviewer.org.</b></div><div class=\"sk-container\" hidden><div class=\"sk-item\"><div class=\"sk-estimator sk-toggleable\"><input class=\"sk-toggleable__control sk-hidden--visually\" id=\"sk-estimator-id-14\" type=\"checkbox\" checked><label for=\"sk-estimator-id-14\" class=\"sk-toggleable__label sk-toggleable__label-arrow\">OneHotEncoder</label><div class=\"sk-toggleable__content\"><pre>OneHotEncoder(sparse_output=False)</pre></div></div></div></div></div>"
      ],
      "text/plain": [
       "OneHotEncoder(sparse_output=False)"
      ]
     },
     "execution_count": 147,
     "metadata": {},
     "output_type": "execute_result"
    }
   ],
   "source": [
    "ohe.fit(df[st])"
   ]
  },
  {
   "cell_type": "code",
   "execution_count": 148,
   "id": "8c73a012-d671-4575-b7bd-26e95c0f99a3",
   "metadata": {
    "tags": []
   },
   "outputs": [],
   "source": [
    "ohe_category = ohe.transform(df[st])"
   ]
  },
  {
   "cell_type": "code",
   "execution_count": null,
   "id": "283f3766-5182-4544-bbc8-48fd4da05579",
   "metadata": {},
   "outputs": [],
   "source": []
  },
  {
   "cell_type": "code",
   "execution_count": 149,
   "id": "a4c177f8-fee2-4f53-a0d6-059f1200a8d8",
   "metadata": {
    "tags": []
   },
   "outputs": [],
   "source": [
    "df = df.drop(st, axis=1)"
   ]
  },
  {
   "cell_type": "code",
   "execution_count": 150,
   "id": "6651551d-afb8-4cf5-b3e9-39dd0c315ec0",
   "metadata": {
    "tags": []
   },
   "outputs": [
    {
     "name": "stderr",
     "output_type": "stream",
     "text": [
      "C:\\Users\\andrei\\AppData\\Local\\Temp\\ipykernel_7636\\3566613818.py:1: PerformanceWarning: DataFrame is highly fragmented.  This is usually the result of calling `frame.insert` many times, which has poor performance.  Consider joining all columns at once using pd.concat(axis=1) instead. To get a de-fragmented frame, use `newframe = frame.copy()`\n",
      "  df[ohe.get_feature_names_out()] =  ohe_category\n",
      "C:\\Users\\andrei\\AppData\\Local\\Temp\\ipykernel_7636\\3566613818.py:1: PerformanceWarning: DataFrame is highly fragmented.  This is usually the result of calling `frame.insert` many times, which has poor performance.  Consider joining all columns at once using pd.concat(axis=1) instead. To get a de-fragmented frame, use `newframe = frame.copy()`\n",
      "  df[ohe.get_feature_names_out()] =  ohe_category\n",
      "C:\\Users\\andrei\\AppData\\Local\\Temp\\ipykernel_7636\\3566613818.py:1: PerformanceWarning: DataFrame is highly fragmented.  This is usually the result of calling `frame.insert` many times, which has poor performance.  Consider joining all columns at once using pd.concat(axis=1) instead. To get a de-fragmented frame, use `newframe = frame.copy()`\n",
      "  df[ohe.get_feature_names_out()] =  ohe_category\n",
      "C:\\Users\\andrei\\AppData\\Local\\Temp\\ipykernel_7636\\3566613818.py:1: PerformanceWarning: DataFrame is highly fragmented.  This is usually the result of calling `frame.insert` many times, which has poor performance.  Consider joining all columns at once using pd.concat(axis=1) instead. To get a de-fragmented frame, use `newframe = frame.copy()`\n",
      "  df[ohe.get_feature_names_out()] =  ohe_category\n",
      "C:\\Users\\andrei\\AppData\\Local\\Temp\\ipykernel_7636\\3566613818.py:1: PerformanceWarning: DataFrame is highly fragmented.  This is usually the result of calling `frame.insert` many times, which has poor performance.  Consider joining all columns at once using pd.concat(axis=1) instead. To get a de-fragmented frame, use `newframe = frame.copy()`\n",
      "  df[ohe.get_feature_names_out()] =  ohe_category\n",
      "C:\\Users\\andrei\\AppData\\Local\\Temp\\ipykernel_7636\\3566613818.py:1: PerformanceWarning: DataFrame is highly fragmented.  This is usually the result of calling `frame.insert` many times, which has poor performance.  Consider joining all columns at once using pd.concat(axis=1) instead. To get a de-fragmented frame, use `newframe = frame.copy()`\n",
      "  df[ohe.get_feature_names_out()] =  ohe_category\n",
      "C:\\Users\\andrei\\AppData\\Local\\Temp\\ipykernel_7636\\3566613818.py:1: PerformanceWarning: DataFrame is highly fragmented.  This is usually the result of calling `frame.insert` many times, which has poor performance.  Consider joining all columns at once using pd.concat(axis=1) instead. To get a de-fragmented frame, use `newframe = frame.copy()`\n",
      "  df[ohe.get_feature_names_out()] =  ohe_category\n",
      "C:\\Users\\andrei\\AppData\\Local\\Temp\\ipykernel_7636\\3566613818.py:1: PerformanceWarning: DataFrame is highly fragmented.  This is usually the result of calling `frame.insert` many times, which has poor performance.  Consider joining all columns at once using pd.concat(axis=1) instead. To get a de-fragmented frame, use `newframe = frame.copy()`\n",
      "  df[ohe.get_feature_names_out()] =  ohe_category\n",
      "C:\\Users\\andrei\\AppData\\Local\\Temp\\ipykernel_7636\\3566613818.py:1: PerformanceWarning: DataFrame is highly fragmented.  This is usually the result of calling `frame.insert` many times, which has poor performance.  Consider joining all columns at once using pd.concat(axis=1) instead. To get a de-fragmented frame, use `newframe = frame.copy()`\n",
      "  df[ohe.get_feature_names_out()] =  ohe_category\n",
      "C:\\Users\\andrei\\AppData\\Local\\Temp\\ipykernel_7636\\3566613818.py:1: PerformanceWarning: DataFrame is highly fragmented.  This is usually the result of calling `frame.insert` many times, which has poor performance.  Consider joining all columns at once using pd.concat(axis=1) instead. To get a de-fragmented frame, use `newframe = frame.copy()`\n",
      "  df[ohe.get_feature_names_out()] =  ohe_category\n",
      "C:\\Users\\andrei\\AppData\\Local\\Temp\\ipykernel_7636\\3566613818.py:1: PerformanceWarning: DataFrame is highly fragmented.  This is usually the result of calling `frame.insert` many times, which has poor performance.  Consider joining all columns at once using pd.concat(axis=1) instead. To get a de-fragmented frame, use `newframe = frame.copy()`\n",
      "  df[ohe.get_feature_names_out()] =  ohe_category\n",
      "C:\\Users\\andrei\\AppData\\Local\\Temp\\ipykernel_7636\\3566613818.py:1: PerformanceWarning: DataFrame is highly fragmented.  This is usually the result of calling `frame.insert` many times, which has poor performance.  Consider joining all columns at once using pd.concat(axis=1) instead. To get a de-fragmented frame, use `newframe = frame.copy()`\n",
      "  df[ohe.get_feature_names_out()] =  ohe_category\n",
      "C:\\Users\\andrei\\AppData\\Local\\Temp\\ipykernel_7636\\3566613818.py:1: PerformanceWarning: DataFrame is highly fragmented.  This is usually the result of calling `frame.insert` many times, which has poor performance.  Consider joining all columns at once using pd.concat(axis=1) instead. To get a de-fragmented frame, use `newframe = frame.copy()`\n",
      "  df[ohe.get_feature_names_out()] =  ohe_category\n",
      "C:\\Users\\andrei\\AppData\\Local\\Temp\\ipykernel_7636\\3566613818.py:1: PerformanceWarning: DataFrame is highly fragmented.  This is usually the result of calling `frame.insert` many times, which has poor performance.  Consider joining all columns at once using pd.concat(axis=1) instead. To get a de-fragmented frame, use `newframe = frame.copy()`\n",
      "  df[ohe.get_feature_names_out()] =  ohe_category\n",
      "C:\\Users\\andrei\\AppData\\Local\\Temp\\ipykernel_7636\\3566613818.py:1: PerformanceWarning: DataFrame is highly fragmented.  This is usually the result of calling `frame.insert` many times, which has poor performance.  Consider joining all columns at once using pd.concat(axis=1) instead. To get a de-fragmented frame, use `newframe = frame.copy()`\n",
      "  df[ohe.get_feature_names_out()] =  ohe_category\n",
      "C:\\Users\\andrei\\AppData\\Local\\Temp\\ipykernel_7636\\3566613818.py:1: PerformanceWarning: DataFrame is highly fragmented.  This is usually the result of calling `frame.insert` many times, which has poor performance.  Consider joining all columns at once using pd.concat(axis=1) instead. To get a de-fragmented frame, use `newframe = frame.copy()`\n",
      "  df[ohe.get_feature_names_out()] =  ohe_category\n",
      "C:\\Users\\andrei\\AppData\\Local\\Temp\\ipykernel_7636\\3566613818.py:1: PerformanceWarning: DataFrame is highly fragmented.  This is usually the result of calling `frame.insert` many times, which has poor performance.  Consider joining all columns at once using pd.concat(axis=1) instead. To get a de-fragmented frame, use `newframe = frame.copy()`\n",
      "  df[ohe.get_feature_names_out()] =  ohe_category\n",
      "C:\\Users\\andrei\\AppData\\Local\\Temp\\ipykernel_7636\\3566613818.py:1: PerformanceWarning: DataFrame is highly fragmented.  This is usually the result of calling `frame.insert` many times, which has poor performance.  Consider joining all columns at once using pd.concat(axis=1) instead. To get a de-fragmented frame, use `newframe = frame.copy()`\n",
      "  df[ohe.get_feature_names_out()] =  ohe_category\n",
      "C:\\Users\\andrei\\AppData\\Local\\Temp\\ipykernel_7636\\3566613818.py:1: PerformanceWarning: DataFrame is highly fragmented.  This is usually the result of calling `frame.insert` many times, which has poor performance.  Consider joining all columns at once using pd.concat(axis=1) instead. To get a de-fragmented frame, use `newframe = frame.copy()`\n",
      "  df[ohe.get_feature_names_out()] =  ohe_category\n",
      "C:\\Users\\andrei\\AppData\\Local\\Temp\\ipykernel_7636\\3566613818.py:1: PerformanceWarning: DataFrame is highly fragmented.  This is usually the result of calling `frame.insert` many times, which has poor performance.  Consider joining all columns at once using pd.concat(axis=1) instead. To get a de-fragmented frame, use `newframe = frame.copy()`\n",
      "  df[ohe.get_feature_names_out()] =  ohe_category\n",
      "C:\\Users\\andrei\\AppData\\Local\\Temp\\ipykernel_7636\\3566613818.py:1: PerformanceWarning: DataFrame is highly fragmented.  This is usually the result of calling `frame.insert` many times, which has poor performance.  Consider joining all columns at once using pd.concat(axis=1) instead. To get a de-fragmented frame, use `newframe = frame.copy()`\n",
      "  df[ohe.get_feature_names_out()] =  ohe_category\n",
      "C:\\Users\\andrei\\AppData\\Local\\Temp\\ipykernel_7636\\3566613818.py:1: PerformanceWarning: DataFrame is highly fragmented.  This is usually the result of calling `frame.insert` many times, which has poor performance.  Consider joining all columns at once using pd.concat(axis=1) instead. To get a de-fragmented frame, use `newframe = frame.copy()`\n",
      "  df[ohe.get_feature_names_out()] =  ohe_category\n",
      "C:\\Users\\andrei\\AppData\\Local\\Temp\\ipykernel_7636\\3566613818.py:1: PerformanceWarning: DataFrame is highly fragmented.  This is usually the result of calling `frame.insert` many times, which has poor performance.  Consider joining all columns at once using pd.concat(axis=1) instead. To get a de-fragmented frame, use `newframe = frame.copy()`\n",
      "  df[ohe.get_feature_names_out()] =  ohe_category\n",
      "C:\\Users\\andrei\\AppData\\Local\\Temp\\ipykernel_7636\\3566613818.py:1: PerformanceWarning: DataFrame is highly fragmented.  This is usually the result of calling `frame.insert` many times, which has poor performance.  Consider joining all columns at once using pd.concat(axis=1) instead. To get a de-fragmented frame, use `newframe = frame.copy()`\n",
      "  df[ohe.get_feature_names_out()] =  ohe_category\n",
      "C:\\Users\\andrei\\AppData\\Local\\Temp\\ipykernel_7636\\3566613818.py:1: PerformanceWarning: DataFrame is highly fragmented.  This is usually the result of calling `frame.insert` many times, which has poor performance.  Consider joining all columns at once using pd.concat(axis=1) instead. To get a de-fragmented frame, use `newframe = frame.copy()`\n",
      "  df[ohe.get_feature_names_out()] =  ohe_category\n",
      "C:\\Users\\andrei\\AppData\\Local\\Temp\\ipykernel_7636\\3566613818.py:1: PerformanceWarning: DataFrame is highly fragmented.  This is usually the result of calling `frame.insert` many times, which has poor performance.  Consider joining all columns at once using pd.concat(axis=1) instead. To get a de-fragmented frame, use `newframe = frame.copy()`\n",
      "  df[ohe.get_feature_names_out()] =  ohe_category\n",
      "C:\\Users\\andrei\\AppData\\Local\\Temp\\ipykernel_7636\\3566613818.py:1: PerformanceWarning: DataFrame is highly fragmented.  This is usually the result of calling `frame.insert` many times, which has poor performance.  Consider joining all columns at once using pd.concat(axis=1) instead. To get a de-fragmented frame, use `newframe = frame.copy()`\n",
      "  df[ohe.get_feature_names_out()] =  ohe_category\n",
      "C:\\Users\\andrei\\AppData\\Local\\Temp\\ipykernel_7636\\3566613818.py:1: PerformanceWarning: DataFrame is highly fragmented.  This is usually the result of calling `frame.insert` many times, which has poor performance.  Consider joining all columns at once using pd.concat(axis=1) instead. To get a de-fragmented frame, use `newframe = frame.copy()`\n",
      "  df[ohe.get_feature_names_out()] =  ohe_category\n",
      "C:\\Users\\andrei\\AppData\\Local\\Temp\\ipykernel_7636\\3566613818.py:1: PerformanceWarning: DataFrame is highly fragmented.  This is usually the result of calling `frame.insert` many times, which has poor performance.  Consider joining all columns at once using pd.concat(axis=1) instead. To get a de-fragmented frame, use `newframe = frame.copy()`\n",
      "  df[ohe.get_feature_names_out()] =  ohe_category\n",
      "C:\\Users\\andrei\\AppData\\Local\\Temp\\ipykernel_7636\\3566613818.py:1: PerformanceWarning: DataFrame is highly fragmented.  This is usually the result of calling `frame.insert` many times, which has poor performance.  Consider joining all columns at once using pd.concat(axis=1) instead. To get a de-fragmented frame, use `newframe = frame.copy()`\n",
      "  df[ohe.get_feature_names_out()] =  ohe_category\n",
      "C:\\Users\\andrei\\AppData\\Local\\Temp\\ipykernel_7636\\3566613818.py:1: PerformanceWarning: DataFrame is highly fragmented.  This is usually the result of calling `frame.insert` many times, which has poor performance.  Consider joining all columns at once using pd.concat(axis=1) instead. To get a de-fragmented frame, use `newframe = frame.copy()`\n",
      "  df[ohe.get_feature_names_out()] =  ohe_category\n",
      "C:\\Users\\andrei\\AppData\\Local\\Temp\\ipykernel_7636\\3566613818.py:1: PerformanceWarning: DataFrame is highly fragmented.  This is usually the result of calling `frame.insert` many times, which has poor performance.  Consider joining all columns at once using pd.concat(axis=1) instead. To get a de-fragmented frame, use `newframe = frame.copy()`\n",
      "  df[ohe.get_feature_names_out()] =  ohe_category\n",
      "C:\\Users\\andrei\\AppData\\Local\\Temp\\ipykernel_7636\\3566613818.py:1: PerformanceWarning: DataFrame is highly fragmented.  This is usually the result of calling `frame.insert` many times, which has poor performance.  Consider joining all columns at once using pd.concat(axis=1) instead. To get a de-fragmented frame, use `newframe = frame.copy()`\n",
      "  df[ohe.get_feature_names_out()] =  ohe_category\n",
      "C:\\Users\\andrei\\AppData\\Local\\Temp\\ipykernel_7636\\3566613818.py:1: PerformanceWarning: DataFrame is highly fragmented.  This is usually the result of calling `frame.insert` many times, which has poor performance.  Consider joining all columns at once using pd.concat(axis=1) instead. To get a de-fragmented frame, use `newframe = frame.copy()`\n",
      "  df[ohe.get_feature_names_out()] =  ohe_category\n",
      "C:\\Users\\andrei\\AppData\\Local\\Temp\\ipykernel_7636\\3566613818.py:1: PerformanceWarning: DataFrame is highly fragmented.  This is usually the result of calling `frame.insert` many times, which has poor performance.  Consider joining all columns at once using pd.concat(axis=1) instead. To get a de-fragmented frame, use `newframe = frame.copy()`\n",
      "  df[ohe.get_feature_names_out()] =  ohe_category\n",
      "C:\\Users\\andrei\\AppData\\Local\\Temp\\ipykernel_7636\\3566613818.py:1: PerformanceWarning: DataFrame is highly fragmented.  This is usually the result of calling `frame.insert` many times, which has poor performance.  Consider joining all columns at once using pd.concat(axis=1) instead. To get a de-fragmented frame, use `newframe = frame.copy()`\n",
      "  df[ohe.get_feature_names_out()] =  ohe_category\n",
      "C:\\Users\\andrei\\AppData\\Local\\Temp\\ipykernel_7636\\3566613818.py:1: PerformanceWarning: DataFrame is highly fragmented.  This is usually the result of calling `frame.insert` many times, which has poor performance.  Consider joining all columns at once using pd.concat(axis=1) instead. To get a de-fragmented frame, use `newframe = frame.copy()`\n",
      "  df[ohe.get_feature_names_out()] =  ohe_category\n",
      "C:\\Users\\andrei\\AppData\\Local\\Temp\\ipykernel_7636\\3566613818.py:1: PerformanceWarning: DataFrame is highly fragmented.  This is usually the result of calling `frame.insert` many times, which has poor performance.  Consider joining all columns at once using pd.concat(axis=1) instead. To get a de-fragmented frame, use `newframe = frame.copy()`\n",
      "  df[ohe.get_feature_names_out()] =  ohe_category\n",
      "C:\\Users\\andrei\\AppData\\Local\\Temp\\ipykernel_7636\\3566613818.py:1: PerformanceWarning: DataFrame is highly fragmented.  This is usually the result of calling `frame.insert` many times, which has poor performance.  Consider joining all columns at once using pd.concat(axis=1) instead. To get a de-fragmented frame, use `newframe = frame.copy()`\n",
      "  df[ohe.get_feature_names_out()] =  ohe_category\n",
      "C:\\Users\\andrei\\AppData\\Local\\Temp\\ipykernel_7636\\3566613818.py:1: PerformanceWarning: DataFrame is highly fragmented.  This is usually the result of calling `frame.insert` many times, which has poor performance.  Consider joining all columns at once using pd.concat(axis=1) instead. To get a de-fragmented frame, use `newframe = frame.copy()`\n",
      "  df[ohe.get_feature_names_out()] =  ohe_category\n",
      "C:\\Users\\andrei\\AppData\\Local\\Temp\\ipykernel_7636\\3566613818.py:1: PerformanceWarning: DataFrame is highly fragmented.  This is usually the result of calling `frame.insert` many times, which has poor performance.  Consider joining all columns at once using pd.concat(axis=1) instead. To get a de-fragmented frame, use `newframe = frame.copy()`\n",
      "  df[ohe.get_feature_names_out()] =  ohe_category\n",
      "C:\\Users\\andrei\\AppData\\Local\\Temp\\ipykernel_7636\\3566613818.py:1: PerformanceWarning: DataFrame is highly fragmented.  This is usually the result of calling `frame.insert` many times, which has poor performance.  Consider joining all columns at once using pd.concat(axis=1) instead. To get a de-fragmented frame, use `newframe = frame.copy()`\n",
      "  df[ohe.get_feature_names_out()] =  ohe_category\n",
      "C:\\Users\\andrei\\AppData\\Local\\Temp\\ipykernel_7636\\3566613818.py:1: PerformanceWarning: DataFrame is highly fragmented.  This is usually the result of calling `frame.insert` many times, which has poor performance.  Consider joining all columns at once using pd.concat(axis=1) instead. To get a de-fragmented frame, use `newframe = frame.copy()`\n",
      "  df[ohe.get_feature_names_out()] =  ohe_category\n",
      "C:\\Users\\andrei\\AppData\\Local\\Temp\\ipykernel_7636\\3566613818.py:1: PerformanceWarning: DataFrame is highly fragmented.  This is usually the result of calling `frame.insert` many times, which has poor performance.  Consider joining all columns at once using pd.concat(axis=1) instead. To get a de-fragmented frame, use `newframe = frame.copy()`\n",
      "  df[ohe.get_feature_names_out()] =  ohe_category\n",
      "C:\\Users\\andrei\\AppData\\Local\\Temp\\ipykernel_7636\\3566613818.py:1: PerformanceWarning: DataFrame is highly fragmented.  This is usually the result of calling `frame.insert` many times, which has poor performance.  Consider joining all columns at once using pd.concat(axis=1) instead. To get a de-fragmented frame, use `newframe = frame.copy()`\n",
      "  df[ohe.get_feature_names_out()] =  ohe_category\n",
      "C:\\Users\\andrei\\AppData\\Local\\Temp\\ipykernel_7636\\3566613818.py:1: PerformanceWarning: DataFrame is highly fragmented.  This is usually the result of calling `frame.insert` many times, which has poor performance.  Consider joining all columns at once using pd.concat(axis=1) instead. To get a de-fragmented frame, use `newframe = frame.copy()`\n",
      "  df[ohe.get_feature_names_out()] =  ohe_category\n",
      "C:\\Users\\andrei\\AppData\\Local\\Temp\\ipykernel_7636\\3566613818.py:1: PerformanceWarning: DataFrame is highly fragmented.  This is usually the result of calling `frame.insert` many times, which has poor performance.  Consider joining all columns at once using pd.concat(axis=1) instead. To get a de-fragmented frame, use `newframe = frame.copy()`\n",
      "  df[ohe.get_feature_names_out()] =  ohe_category\n",
      "C:\\Users\\andrei\\AppData\\Local\\Temp\\ipykernel_7636\\3566613818.py:1: PerformanceWarning: DataFrame is highly fragmented.  This is usually the result of calling `frame.insert` many times, which has poor performance.  Consider joining all columns at once using pd.concat(axis=1) instead. To get a de-fragmented frame, use `newframe = frame.copy()`\n",
      "  df[ohe.get_feature_names_out()] =  ohe_category\n",
      "C:\\Users\\andrei\\AppData\\Local\\Temp\\ipykernel_7636\\3566613818.py:1: PerformanceWarning: DataFrame is highly fragmented.  This is usually the result of calling `frame.insert` many times, which has poor performance.  Consider joining all columns at once using pd.concat(axis=1) instead. To get a de-fragmented frame, use `newframe = frame.copy()`\n",
      "  df[ohe.get_feature_names_out()] =  ohe_category\n",
      "C:\\Users\\andrei\\AppData\\Local\\Temp\\ipykernel_7636\\3566613818.py:1: PerformanceWarning: DataFrame is highly fragmented.  This is usually the result of calling `frame.insert` many times, which has poor performance.  Consider joining all columns at once using pd.concat(axis=1) instead. To get a de-fragmented frame, use `newframe = frame.copy()`\n",
      "  df[ohe.get_feature_names_out()] =  ohe_category\n",
      "C:\\Users\\andrei\\AppData\\Local\\Temp\\ipykernel_7636\\3566613818.py:1: PerformanceWarning: DataFrame is highly fragmented.  This is usually the result of calling `frame.insert` many times, which has poor performance.  Consider joining all columns at once using pd.concat(axis=1) instead. To get a de-fragmented frame, use `newframe = frame.copy()`\n",
      "  df[ohe.get_feature_names_out()] =  ohe_category\n",
      "C:\\Users\\andrei\\AppData\\Local\\Temp\\ipykernel_7636\\3566613818.py:1: PerformanceWarning: DataFrame is highly fragmented.  This is usually the result of calling `frame.insert` many times, which has poor performance.  Consider joining all columns at once using pd.concat(axis=1) instead. To get a de-fragmented frame, use `newframe = frame.copy()`\n",
      "  df[ohe.get_feature_names_out()] =  ohe_category\n",
      "C:\\Users\\andrei\\AppData\\Local\\Temp\\ipykernel_7636\\3566613818.py:1: PerformanceWarning: DataFrame is highly fragmented.  This is usually the result of calling `frame.insert` many times, which has poor performance.  Consider joining all columns at once using pd.concat(axis=1) instead. To get a de-fragmented frame, use `newframe = frame.copy()`\n",
      "  df[ohe.get_feature_names_out()] =  ohe_category\n",
      "C:\\Users\\andrei\\AppData\\Local\\Temp\\ipykernel_7636\\3566613818.py:1: PerformanceWarning: DataFrame is highly fragmented.  This is usually the result of calling `frame.insert` many times, which has poor performance.  Consider joining all columns at once using pd.concat(axis=1) instead. To get a de-fragmented frame, use `newframe = frame.copy()`\n",
      "  df[ohe.get_feature_names_out()] =  ohe_category\n",
      "C:\\Users\\andrei\\AppData\\Local\\Temp\\ipykernel_7636\\3566613818.py:1: PerformanceWarning: DataFrame is highly fragmented.  This is usually the result of calling `frame.insert` many times, which has poor performance.  Consider joining all columns at once using pd.concat(axis=1) instead. To get a de-fragmented frame, use `newframe = frame.copy()`\n",
      "  df[ohe.get_feature_names_out()] =  ohe_category\n",
      "C:\\Users\\andrei\\AppData\\Local\\Temp\\ipykernel_7636\\3566613818.py:1: PerformanceWarning: DataFrame is highly fragmented.  This is usually the result of calling `frame.insert` many times, which has poor performance.  Consider joining all columns at once using pd.concat(axis=1) instead. To get a de-fragmented frame, use `newframe = frame.copy()`\n",
      "  df[ohe.get_feature_names_out()] =  ohe_category\n",
      "C:\\Users\\andrei\\AppData\\Local\\Temp\\ipykernel_7636\\3566613818.py:1: PerformanceWarning: DataFrame is highly fragmented.  This is usually the result of calling `frame.insert` many times, which has poor performance.  Consider joining all columns at once using pd.concat(axis=1) instead. To get a de-fragmented frame, use `newframe = frame.copy()`\n",
      "  df[ohe.get_feature_names_out()] =  ohe_category\n",
      "C:\\Users\\andrei\\AppData\\Local\\Temp\\ipykernel_7636\\3566613818.py:1: PerformanceWarning: DataFrame is highly fragmented.  This is usually the result of calling `frame.insert` many times, which has poor performance.  Consider joining all columns at once using pd.concat(axis=1) instead. To get a de-fragmented frame, use `newframe = frame.copy()`\n",
      "  df[ohe.get_feature_names_out()] =  ohe_category\n",
      "C:\\Users\\andrei\\AppData\\Local\\Temp\\ipykernel_7636\\3566613818.py:1: PerformanceWarning: DataFrame is highly fragmented.  This is usually the result of calling `frame.insert` many times, which has poor performance.  Consider joining all columns at once using pd.concat(axis=1) instead. To get a de-fragmented frame, use `newframe = frame.copy()`\n",
      "  df[ohe.get_feature_names_out()] =  ohe_category\n",
      "C:\\Users\\andrei\\AppData\\Local\\Temp\\ipykernel_7636\\3566613818.py:1: PerformanceWarning: DataFrame is highly fragmented.  This is usually the result of calling `frame.insert` many times, which has poor performance.  Consider joining all columns at once using pd.concat(axis=1) instead. To get a de-fragmented frame, use `newframe = frame.copy()`\n",
      "  df[ohe.get_feature_names_out()] =  ohe_category\n",
      "C:\\Users\\andrei\\AppData\\Local\\Temp\\ipykernel_7636\\3566613818.py:1: PerformanceWarning: DataFrame is highly fragmented.  This is usually the result of calling `frame.insert` many times, which has poor performance.  Consider joining all columns at once using pd.concat(axis=1) instead. To get a de-fragmented frame, use `newframe = frame.copy()`\n",
      "  df[ohe.get_feature_names_out()] =  ohe_category\n",
      "C:\\Users\\andrei\\AppData\\Local\\Temp\\ipykernel_7636\\3566613818.py:1: PerformanceWarning: DataFrame is highly fragmented.  This is usually the result of calling `frame.insert` many times, which has poor performance.  Consider joining all columns at once using pd.concat(axis=1) instead. To get a de-fragmented frame, use `newframe = frame.copy()`\n",
      "  df[ohe.get_feature_names_out()] =  ohe_category\n",
      "C:\\Users\\andrei\\AppData\\Local\\Temp\\ipykernel_7636\\3566613818.py:1: PerformanceWarning: DataFrame is highly fragmented.  This is usually the result of calling `frame.insert` many times, which has poor performance.  Consider joining all columns at once using pd.concat(axis=1) instead. To get a de-fragmented frame, use `newframe = frame.copy()`\n",
      "  df[ohe.get_feature_names_out()] =  ohe_category\n",
      "C:\\Users\\andrei\\AppData\\Local\\Temp\\ipykernel_7636\\3566613818.py:1: PerformanceWarning: DataFrame is highly fragmented.  This is usually the result of calling `frame.insert` many times, which has poor performance.  Consider joining all columns at once using pd.concat(axis=1) instead. To get a de-fragmented frame, use `newframe = frame.copy()`\n",
      "  df[ohe.get_feature_names_out()] =  ohe_category\n",
      "C:\\Users\\andrei\\AppData\\Local\\Temp\\ipykernel_7636\\3566613818.py:1: PerformanceWarning: DataFrame is highly fragmented.  This is usually the result of calling `frame.insert` many times, which has poor performance.  Consider joining all columns at once using pd.concat(axis=1) instead. To get a de-fragmented frame, use `newframe = frame.copy()`\n",
      "  df[ohe.get_feature_names_out()] =  ohe_category\n",
      "C:\\Users\\andrei\\AppData\\Local\\Temp\\ipykernel_7636\\3566613818.py:1: PerformanceWarning: DataFrame is highly fragmented.  This is usually the result of calling `frame.insert` many times, which has poor performance.  Consider joining all columns at once using pd.concat(axis=1) instead. To get a de-fragmented frame, use `newframe = frame.copy()`\n",
      "  df[ohe.get_feature_names_out()] =  ohe_category\n",
      "C:\\Users\\andrei\\AppData\\Local\\Temp\\ipykernel_7636\\3566613818.py:1: PerformanceWarning: DataFrame is highly fragmented.  This is usually the result of calling `frame.insert` many times, which has poor performance.  Consider joining all columns at once using pd.concat(axis=1) instead. To get a de-fragmented frame, use `newframe = frame.copy()`\n",
      "  df[ohe.get_feature_names_out()] =  ohe_category\n",
      "C:\\Users\\andrei\\AppData\\Local\\Temp\\ipykernel_7636\\3566613818.py:1: PerformanceWarning: DataFrame is highly fragmented.  This is usually the result of calling `frame.insert` many times, which has poor performance.  Consider joining all columns at once using pd.concat(axis=1) instead. To get a de-fragmented frame, use `newframe = frame.copy()`\n",
      "  df[ohe.get_feature_names_out()] =  ohe_category\n",
      "C:\\Users\\andrei\\AppData\\Local\\Temp\\ipykernel_7636\\3566613818.py:1: PerformanceWarning: DataFrame is highly fragmented.  This is usually the result of calling `frame.insert` many times, which has poor performance.  Consider joining all columns at once using pd.concat(axis=1) instead. To get a de-fragmented frame, use `newframe = frame.copy()`\n",
      "  df[ohe.get_feature_names_out()] =  ohe_category\n",
      "C:\\Users\\andrei\\AppData\\Local\\Temp\\ipykernel_7636\\3566613818.py:1: PerformanceWarning: DataFrame is highly fragmented.  This is usually the result of calling `frame.insert` many times, which has poor performance.  Consider joining all columns at once using pd.concat(axis=1) instead. To get a de-fragmented frame, use `newframe = frame.copy()`\n",
      "  df[ohe.get_feature_names_out()] =  ohe_category\n",
      "C:\\Users\\andrei\\AppData\\Local\\Temp\\ipykernel_7636\\3566613818.py:1: PerformanceWarning: DataFrame is highly fragmented.  This is usually the result of calling `frame.insert` many times, which has poor performance.  Consider joining all columns at once using pd.concat(axis=1) instead. To get a de-fragmented frame, use `newframe = frame.copy()`\n",
      "  df[ohe.get_feature_names_out()] =  ohe_category\n",
      "C:\\Users\\andrei\\AppData\\Local\\Temp\\ipykernel_7636\\3566613818.py:1: PerformanceWarning: DataFrame is highly fragmented.  This is usually the result of calling `frame.insert` many times, which has poor performance.  Consider joining all columns at once using pd.concat(axis=1) instead. To get a de-fragmented frame, use `newframe = frame.copy()`\n",
      "  df[ohe.get_feature_names_out()] =  ohe_category\n",
      "C:\\Users\\andrei\\AppData\\Local\\Temp\\ipykernel_7636\\3566613818.py:1: PerformanceWarning: DataFrame is highly fragmented.  This is usually the result of calling `frame.insert` many times, which has poor performance.  Consider joining all columns at once using pd.concat(axis=1) instead. To get a de-fragmented frame, use `newframe = frame.copy()`\n",
      "  df[ohe.get_feature_names_out()] =  ohe_category\n",
      "C:\\Users\\andrei\\AppData\\Local\\Temp\\ipykernel_7636\\3566613818.py:1: PerformanceWarning: DataFrame is highly fragmented.  This is usually the result of calling `frame.insert` many times, which has poor performance.  Consider joining all columns at once using pd.concat(axis=1) instead. To get a de-fragmented frame, use `newframe = frame.copy()`\n",
      "  df[ohe.get_feature_names_out()] =  ohe_category\n",
      "C:\\Users\\andrei\\AppData\\Local\\Temp\\ipykernel_7636\\3566613818.py:1: PerformanceWarning: DataFrame is highly fragmented.  This is usually the result of calling `frame.insert` many times, which has poor performance.  Consider joining all columns at once using pd.concat(axis=1) instead. To get a de-fragmented frame, use `newframe = frame.copy()`\n",
      "  df[ohe.get_feature_names_out()] =  ohe_category\n",
      "C:\\Users\\andrei\\AppData\\Local\\Temp\\ipykernel_7636\\3566613818.py:1: PerformanceWarning: DataFrame is highly fragmented.  This is usually the result of calling `frame.insert` many times, which has poor performance.  Consider joining all columns at once using pd.concat(axis=1) instead. To get a de-fragmented frame, use `newframe = frame.copy()`\n",
      "  df[ohe.get_feature_names_out()] =  ohe_category\n",
      "C:\\Users\\andrei\\AppData\\Local\\Temp\\ipykernel_7636\\3566613818.py:1: PerformanceWarning: DataFrame is highly fragmented.  This is usually the result of calling `frame.insert` many times, which has poor performance.  Consider joining all columns at once using pd.concat(axis=1) instead. To get a de-fragmented frame, use `newframe = frame.copy()`\n",
      "  df[ohe.get_feature_names_out()] =  ohe_category\n",
      "C:\\Users\\andrei\\AppData\\Local\\Temp\\ipykernel_7636\\3566613818.py:1: PerformanceWarning: DataFrame is highly fragmented.  This is usually the result of calling `frame.insert` many times, which has poor performance.  Consider joining all columns at once using pd.concat(axis=1) instead. To get a de-fragmented frame, use `newframe = frame.copy()`\n",
      "  df[ohe.get_feature_names_out()] =  ohe_category\n",
      "C:\\Users\\andrei\\AppData\\Local\\Temp\\ipykernel_7636\\3566613818.py:1: PerformanceWarning: DataFrame is highly fragmented.  This is usually the result of calling `frame.insert` many times, which has poor performance.  Consider joining all columns at once using pd.concat(axis=1) instead. To get a de-fragmented frame, use `newframe = frame.copy()`\n",
      "  df[ohe.get_feature_names_out()] =  ohe_category\n",
      "C:\\Users\\andrei\\AppData\\Local\\Temp\\ipykernel_7636\\3566613818.py:1: PerformanceWarning: DataFrame is highly fragmented.  This is usually the result of calling `frame.insert` many times, which has poor performance.  Consider joining all columns at once using pd.concat(axis=1) instead. To get a de-fragmented frame, use `newframe = frame.copy()`\n",
      "  df[ohe.get_feature_names_out()] =  ohe_category\n",
      "C:\\Users\\andrei\\AppData\\Local\\Temp\\ipykernel_7636\\3566613818.py:1: PerformanceWarning: DataFrame is highly fragmented.  This is usually the result of calling `frame.insert` many times, which has poor performance.  Consider joining all columns at once using pd.concat(axis=1) instead. To get a de-fragmented frame, use `newframe = frame.copy()`\n",
      "  df[ohe.get_feature_names_out()] =  ohe_category\n",
      "C:\\Users\\andrei\\AppData\\Local\\Temp\\ipykernel_7636\\3566613818.py:1: PerformanceWarning: DataFrame is highly fragmented.  This is usually the result of calling `frame.insert` many times, which has poor performance.  Consider joining all columns at once using pd.concat(axis=1) instead. To get a de-fragmented frame, use `newframe = frame.copy()`\n",
      "  df[ohe.get_feature_names_out()] =  ohe_category\n",
      "C:\\Users\\andrei\\AppData\\Local\\Temp\\ipykernel_7636\\3566613818.py:1: PerformanceWarning: DataFrame is highly fragmented.  This is usually the result of calling `frame.insert` many times, which has poor performance.  Consider joining all columns at once using pd.concat(axis=1) instead. To get a de-fragmented frame, use `newframe = frame.copy()`\n",
      "  df[ohe.get_feature_names_out()] =  ohe_category\n",
      "C:\\Users\\andrei\\AppData\\Local\\Temp\\ipykernel_7636\\3566613818.py:1: PerformanceWarning: DataFrame is highly fragmented.  This is usually the result of calling `frame.insert` many times, which has poor performance.  Consider joining all columns at once using pd.concat(axis=1) instead. To get a de-fragmented frame, use `newframe = frame.copy()`\n",
      "  df[ohe.get_feature_names_out()] =  ohe_category\n",
      "C:\\Users\\andrei\\AppData\\Local\\Temp\\ipykernel_7636\\3566613818.py:1: PerformanceWarning: DataFrame is highly fragmented.  This is usually the result of calling `frame.insert` many times, which has poor performance.  Consider joining all columns at once using pd.concat(axis=1) instead. To get a de-fragmented frame, use `newframe = frame.copy()`\n",
      "  df[ohe.get_feature_names_out()] =  ohe_category\n",
      "C:\\Users\\andrei\\AppData\\Local\\Temp\\ipykernel_7636\\3566613818.py:1: PerformanceWarning: DataFrame is highly fragmented.  This is usually the result of calling `frame.insert` many times, which has poor performance.  Consider joining all columns at once using pd.concat(axis=1) instead. To get a de-fragmented frame, use `newframe = frame.copy()`\n",
      "  df[ohe.get_feature_names_out()] =  ohe_category\n",
      "C:\\Users\\andrei\\AppData\\Local\\Temp\\ipykernel_7636\\3566613818.py:1: PerformanceWarning: DataFrame is highly fragmented.  This is usually the result of calling `frame.insert` many times, which has poor performance.  Consider joining all columns at once using pd.concat(axis=1) instead. To get a de-fragmented frame, use `newframe = frame.copy()`\n",
      "  df[ohe.get_feature_names_out()] =  ohe_category\n",
      "C:\\Users\\andrei\\AppData\\Local\\Temp\\ipykernel_7636\\3566613818.py:1: PerformanceWarning: DataFrame is highly fragmented.  This is usually the result of calling `frame.insert` many times, which has poor performance.  Consider joining all columns at once using pd.concat(axis=1) instead. To get a de-fragmented frame, use `newframe = frame.copy()`\n",
      "  df[ohe.get_feature_names_out()] =  ohe_category\n",
      "C:\\Users\\andrei\\AppData\\Local\\Temp\\ipykernel_7636\\3566613818.py:1: PerformanceWarning: DataFrame is highly fragmented.  This is usually the result of calling `frame.insert` many times, which has poor performance.  Consider joining all columns at once using pd.concat(axis=1) instead. To get a de-fragmented frame, use `newframe = frame.copy()`\n",
      "  df[ohe.get_feature_names_out()] =  ohe_category\n",
      "C:\\Users\\andrei\\AppData\\Local\\Temp\\ipykernel_7636\\3566613818.py:1: PerformanceWarning: DataFrame is highly fragmented.  This is usually the result of calling `frame.insert` many times, which has poor performance.  Consider joining all columns at once using pd.concat(axis=1) instead. To get a de-fragmented frame, use `newframe = frame.copy()`\n",
      "  df[ohe.get_feature_names_out()] =  ohe_category\n",
      "C:\\Users\\andrei\\AppData\\Local\\Temp\\ipykernel_7636\\3566613818.py:1: PerformanceWarning: DataFrame is highly fragmented.  This is usually the result of calling `frame.insert` many times, which has poor performance.  Consider joining all columns at once using pd.concat(axis=1) instead. To get a de-fragmented frame, use `newframe = frame.copy()`\n",
      "  df[ohe.get_feature_names_out()] =  ohe_category\n",
      "C:\\Users\\andrei\\AppData\\Local\\Temp\\ipykernel_7636\\3566613818.py:1: PerformanceWarning: DataFrame is highly fragmented.  This is usually the result of calling `frame.insert` many times, which has poor performance.  Consider joining all columns at once using pd.concat(axis=1) instead. To get a de-fragmented frame, use `newframe = frame.copy()`\n",
      "  df[ohe.get_feature_names_out()] =  ohe_category\n"
     ]
    }
   ],
   "source": [
    "df[ohe.get_feature_names_out()] =  ohe_category"
   ]
  },
  {
   "cell_type": "markdown",
   "id": "cd59d77b-4dd8-4180-a947-b207561261d5",
   "metadata": {
    "tags": []
   },
   "source": [
    "## ml"
   ]
  },
  {
   "cell_type": "markdown",
   "id": "2482c003-fdc9-4d28-b853-2d7a54858469",
   "metadata": {
    "tags": []
   },
   "source": [
    "### linear"
   ]
  },
  {
   "cell_type": "code",
   "execution_count": 151,
   "id": "6b2bd10e-08d0-45b7-9dd0-b0004e3838ad",
   "metadata": {},
   "outputs": [],
   "source": [
    "import numpy as np"
   ]
  },
  {
   "cell_type": "code",
   "execution_count": 152,
   "id": "4fe4dd57-d293-4e56-b969-b4c02578e479",
   "metadata": {
    "tags": []
   },
   "outputs": [],
   "source": [
    "from sklearn.model_selection import train_test_split, GridSearchCV"
   ]
  },
  {
   "cell_type": "code",
   "execution_count": 153,
   "id": "bb7c86fd-d791-41d1-8506-7fc7f4757475",
   "metadata": {
    "tags": []
   },
   "outputs": [],
   "source": [
    "df['SalePrice'] = np.log(df['SalePrice'])"
   ]
  },
  {
   "cell_type": "code",
   "execution_count": 154,
   "id": "f940b37c-3c42-4e6b-92ac-598720dee5d7",
   "metadata": {
    "tags": []
   },
   "outputs": [],
   "source": [
    "x = df.drop(['SalePrice'], axis=1)\n",
    "y = df.SalePrice"
   ]
  },
  {
   "cell_type": "code",
   "execution_count": 155,
   "id": "ed4b3517-bde5-4913-b643-ddc45d93945f",
   "metadata": {
    "tags": []
   },
   "outputs": [],
   "source": [
    "X_train, X_test, y_train, y_test = train_test_split(x, y, test_size=0.2, random_state=42)"
   ]
  },
  {
   "cell_type": "code",
   "execution_count": 156,
   "id": "f0ed3014-aeba-452d-b461-4f4d73f9be30",
   "metadata": {
    "tags": []
   },
   "outputs": [],
   "source": [
    "from sklearn.linear_model import LinearRegression"
   ]
  },
  {
   "cell_type": "code",
   "execution_count": 157,
   "id": "74295d73-35c4-4cb2-9c47-0e23e0b5d9ae",
   "metadata": {
    "tags": []
   },
   "outputs": [],
   "source": [
    "reg = LinearRegression().fit(X_train, y_train)"
   ]
  },
  {
   "cell_type": "code",
   "execution_count": 158,
   "id": "b63ee603-b096-4083-b9f7-c35e4f2050f3",
   "metadata": {
    "tags": []
   },
   "outputs": [
    {
     "data": {
      "text/plain": [
       "0.9337107084703161"
      ]
     },
     "execution_count": 158,
     "metadata": {},
     "output_type": "execute_result"
    }
   ],
   "source": [
    "reg.score(X_train, y_train)"
   ]
  },
  {
   "cell_type": "code",
   "execution_count": 159,
   "id": "952ac433-b1b0-4058-9ecf-6617bfe4f0b4",
   "metadata": {
    "tags": []
   },
   "outputs": [],
   "source": [
    "pred = reg.predict(X_test)"
   ]
  },
  {
   "cell_type": "code",
   "execution_count": 160,
   "id": "f822b0fe-a637-4fe8-be48-8b87adefc3e4",
   "metadata": {
    "tags": []
   },
   "outputs": [],
   "source": [
    "from sklearn.metrics import mean_squared_error"
   ]
  },
  {
   "cell_type": "code",
   "execution_count": 161,
   "id": "81126f21-f6c4-488d-8b15-71393a095253",
   "metadata": {
    "tags": []
   },
   "outputs": [],
   "source": [
    "import numpy as np\n",
    "from sklearn import metrics"
   ]
  },
  {
   "cell_type": "code",
   "execution_count": 162,
   "id": "91f52ba8-d087-4bb8-a9be-5b562cd86f70",
   "metadata": {
    "tags": []
   },
   "outputs": [],
   "source": [
    "def rmse(y_pred, y_train): \n",
    "    \n",
    "    rmse_ = np.sqrt(metrics.mean_squared_error(y_pred,y_train))\n",
    "    print(\"rmse: \", rmse_)"
   ]
  },
  {
   "cell_type": "code",
   "execution_count": 163,
   "id": "a2d0c4c1-7fe7-4bc8-80af-18043ffd9b0c",
   "metadata": {
    "tags": []
   },
   "outputs": [
    {
     "name": "stdout",
     "output_type": "stream",
     "text": [
      "rmse:  0.1155536135522757\n"
     ]
    }
   ],
   "source": [
    "rmse(pred, y_test)"
   ]
  },
  {
   "cell_type": "markdown",
   "id": "59702082-8c22-49fe-b861-e0bd9483c969",
   "metadata": {
    "tags": []
   },
   "source": [
    "### random"
   ]
  },
  {
   "cell_type": "code",
   "execution_count": 164,
   "id": "11c79a7b-e748-4813-a6b7-be01cc9b09b2",
   "metadata": {
    "tags": []
   },
   "outputs": [],
   "source": [
    "from sklearn.preprocessing import MinMaxScaler\n",
    "from sklearn.pipeline import make_pipeline\n",
    "from sklearn import linear_model"
   ]
  },
  {
   "cell_type": "code",
   "execution_count": 165,
   "id": "a04656e9-af01-40fa-83b2-bf30d7cad464",
   "metadata": {},
   "outputs": [],
   "source": [
    "alphas_ = [ 9e-5, 7e-5, 5e-5, 3e-5, 9e-4, 7e-4, 5e-4, 3e-4, 1e-4, 1e-3, 5e-2, 1e-2, 0.1, 0.3, 1, 3, 5, 10, 15, 18, 20]\n",
    "\n",
    "ridge = make_pipeline(MinMaxScaler(), linear_model.RidgeCV(alphas = alphas_, cv = 10))"
   ]
  },
  {
   "cell_type": "code",
   "execution_count": 166,
   "id": "70e645b2-8461-4077-98a7-4fc36615cda0",
   "metadata": {
    "tags": []
   },
   "outputs": [
    {
     "name": "stdout",
     "output_type": "stream",
     "text": [
      "rmse:  0.12631215378497757\n"
     ]
    }
   ],
   "source": [
    "model_ridge = ridge.fit(X_train, y_train)\n",
    "\n",
    "#predict value of sale price on the training set\n",
    "y2_pred = ridge.predict(X_test)\n",
    "\n",
    "#caculate root mean square error\n",
    "rmse(y2_pred,y_test)"
   ]
  },
  {
   "cell_type": "markdown",
   "id": "b625bb18-0ec9-41e4-b69f-84c01dd33b77",
   "metadata": {
    "tags": []
   },
   "source": [
    "### K"
   ]
  },
  {
   "cell_type": "code",
   "execution_count": 167,
   "id": "49bc9138-d290-4a4b-83e0-b631707bb56b",
   "metadata": {
    "tags": []
   },
   "outputs": [
    {
     "name": "stdout",
     "output_type": "stream",
     "text": [
      "rmse:  0.1832296184176446\n"
     ]
    }
   ],
   "source": [
    "from sklearn.neighbors import KNeighborsRegressor\n",
    "\n",
    "# N = 5 #\n",
    "neigh = KNeighborsRegressor(n_neighbors = 6,\n",
    "                            weights = 'distance',\n",
    "                            algorithm = 'auto',\n",
    "                            leaf_size=25,\n",
    "                            p= 1)\n",
    "neigh.fit(X_train,y_train)\n",
    "\n",
    "#predict value of sale price on the training set\n",
    "y4_pred = neigh.predict(X_test)\n",
    "\n",
    "#caculate root mean square error\n",
    "rmse(y4_pred,y_test)"
   ]
  },
  {
   "cell_type": "markdown",
   "id": "7b981871-e3af-4743-8e0f-d5c15f03c0a6",
   "metadata": {
    "tags": []
   },
   "source": [
    "### lasso"
   ]
  },
  {
   "cell_type": "code",
   "execution_count": 168,
   "id": "70a9c14b-c83d-4187-a7f8-66e5a2ad61d8",
   "metadata": {
    "tags": []
   },
   "outputs": [],
   "source": [
    "from sklearn.preprocessing import RobustScaler"
   ]
  },
  {
   "cell_type": "code",
   "execution_count": 169,
   "id": "978c8db7-9a04-466d-b46f-a5225912eb4e",
   "metadata": {
    "tags": []
   },
   "outputs": [],
   "source": [
    "\n",
    "alpha2 = [0.0001, 0.0002, 0.0004, 0.0005, 0.0006, 0.0007, 0.0008, 0.0009, 0.00001, 0.00002, 0.00004, 0.00005, 0.00006, 0.00007, 0.00008, 0.00009, 0.001, 0.002, 0.004, 0.005, 0.006, 0.007, 0.008, 0.009]\n",
    "\n",
    "\n",
    "lasso = make_pipeline(RobustScaler(), linear_model.LassoCV(alphas = alpha2, random_state=42,cv=12,max_iter=2000))"
   ]
  },
  {
   "cell_type": "code",
   "execution_count": 170,
   "id": "ebde406b-eaae-458c-b9ab-8db881767fe4",
   "metadata": {
    "tags": []
   },
   "outputs": [
    {
     "name": "stdout",
     "output_type": "stream",
     "text": [
      "rmse:  0.11782389269926224\n"
     ]
    }
   ],
   "source": [
    "\n",
    "model_lasso = lasso.fit(X_train, y_train)\n",
    "\n",
    "\n",
    "y3_pred = lasso.predict(X_test)\n",
    "\n",
    "\n",
    "rmse(y3_pred, y_test)"
   ]
  },
  {
   "cell_type": "markdown",
   "id": "231b8176-34a4-4d4f-bca8-000d03ac84a6",
   "metadata": {
    "tags": []
   },
   "source": [
    "### tree"
   ]
  },
  {
   "cell_type": "code",
   "execution_count": 171,
   "id": "657d6af5-42f5-48ec-8da9-2a5d6526101c",
   "metadata": {
    "tags": []
   },
   "outputs": [],
   "source": [
    "from sklearn import tree"
   ]
  },
  {
   "cell_type": "code",
   "execution_count": 172,
   "id": "58e10555-2c0b-41a9-866c-ab7bed745e60",
   "metadata": {
    "tags": []
   },
   "outputs": [],
   "source": [
    "\n",
    "tree_regr1 = tree.DecisionTreeRegressor(max_depth = 7, min_samples_leaf=5,random_state=42)\n",
    "\n",
    "\n",
    "tree_regr2 = tree.DecisionTreeRegressor(max_depth = 12,min_samples_leaf=7,random_state=42)\n",
    "\n",
    "\n",
    "tree_regr11 = tree_regr1.fit(X_train,y_train)\n",
    "tree_regr12 = tree_regr2.fit(X_train,y_train)\n",
    "\n",
    "\n",
    "y1 = tree_regr1.predict(X_test)\n",
    "y2 = tree_regr2.predict(X_test)"
   ]
  },
  {
   "cell_type": "code",
   "execution_count": 173,
   "id": "eec6ab2a-7ae2-4b47-bd87-59aca1f82c42",
   "metadata": {
    "tags": []
   },
   "outputs": [
    {
     "name": "stdout",
     "output_type": "stream",
     "text": [
      "rmse:  0.17712574104322235\n"
     ]
    }
   ],
   "source": [
    "rmse(y1,y_test)"
   ]
  },
  {
   "cell_type": "code",
   "execution_count": 174,
   "id": "3e0896ff-35f7-4bda-a072-51fe6cf8dcf2",
   "metadata": {
    "tags": []
   },
   "outputs": [
    {
     "name": "stdout",
     "output_type": "stream",
     "text": [
      "rmse:  0.1610651119503108\n"
     ]
    }
   ],
   "source": [
    "rmse(y2,y_test)"
   ]
  },
  {
   "cell_type": "markdown",
   "id": "f5bb0f93-b8f3-4220-b960-5715b11917fe",
   "metadata": {
    "tags": []
   },
   "source": [
    "### treeclasifier"
   ]
  },
  {
   "cell_type": "code",
   "execution_count": 175,
   "id": "c34ece0d-d844-449c-adae-7c0ea6719f4c",
   "metadata": {
    "tags": []
   },
   "outputs": [],
   "source": [
    "from sklearn.ensemble import RandomForestRegressor, GradientBoostingRegressor"
   ]
  },
  {
   "cell_type": "code",
   "execution_count": 176,
   "id": "8a11a41e-129f-474c-bed1-d4e0169a283c",
   "metadata": {
    "tags": []
   },
   "outputs": [],
   "source": [
    "rforest = RandomForestRegressor(n_estimators=350, max_depth=12, min_samples_leaf=1, min_weight_fraction_leaf = .00001, random_state=42 , max_features= 0.2, bootstrap=False)"
   ]
  },
  {
   "cell_type": "code",
   "execution_count": 177,
   "id": "d95e5e8e-94ec-444a-8bc6-576bf881a94d",
   "metadata": {
    "tags": []
   },
   "outputs": [
    {
     "name": "stdout",
     "output_type": "stream",
     "text": [
      "rmse:  0.1297601257230446\n"
     ]
    }
   ],
   "source": [
    "\n",
    "model_rforest = rforest.fit(X_train, y_train)\n",
    "\n",
    "y6_pred = rforest.predict(X_test)\n",
    "\n",
    "rmse(y6_pred,y_test)"
   ]
  },
  {
   "cell_type": "markdown",
   "id": "801af434-df0b-436c-8212-b820938af856",
   "metadata": {
    "tags": []
   },
   "source": [
    "### svr"
   ]
  },
  {
   "cell_type": "code",
   "execution_count": 178,
   "id": "1fce9d20-86ea-4ef7-bc14-aa233d4c9f7a",
   "metadata": {
    "tags": []
   },
   "outputs": [],
   "source": [
    "from sklearn.svm import SVR"
   ]
  },
  {
   "cell_type": "code",
   "execution_count": 179,
   "id": "321b5be0-dc93-4fd2-ac78-5666d1727402",
   "metadata": {
    "tags": []
   },
   "outputs": [],
   "source": [
    "svr = make_pipeline(MinMaxScaler(), SVR(C= 1500, epsilon= 0.0001, gamma=0.0001, kernel = \"rbf\", ))   #"
   ]
  },
  {
   "cell_type": "code",
   "execution_count": 180,
   "id": "01aef5d4-00c4-496d-8f25-d26106a1717f",
   "metadata": {
    "tags": []
   },
   "outputs": [
    {
     "name": "stdout",
     "output_type": "stream",
     "text": [
      "rmse:  0.10782152189694076\n"
     ]
    }
   ],
   "source": [
    "#fit\n",
    "model_svr = svr.fit(X_train, y_train)\n",
    "\n",
    "#predict value of sale price on the training set\n",
    "y7_pred = svr.predict(X_test)\n",
    "\n",
    "#caculate root mean square error\n",
    "rmse(y7_pred,y_test)"
   ]
  },
  {
   "cell_type": "markdown",
   "id": "f80ba86e-72e7-4534-be4f-01e4f9892ff6",
   "metadata": {
    "tags": []
   },
   "source": [
    "### gradient"
   ]
  },
  {
   "cell_type": "code",
   "execution_count": 181,
   "id": "7745d607-d2da-4d23-8c73-5b8eabc2d0bb",
   "metadata": {
    "tags": []
   },
   "outputs": [],
   "source": [
    "gbr1 = GradientBoostingRegressor(n_estimators=300, learning_rate=0.05, max_depth = 5,\n",
    "                                min_samples_leaf=5, loss='squared_error', random_state =42, subsample=.4) "
   ]
  },
  {
   "cell_type": "code",
   "execution_count": 182,
   "id": "80720857-94a7-4d5d-81e5-732cd15a37b9",
   "metadata": {
    "tags": []
   },
   "outputs": [],
   "source": [
    "gbr2 = GradientBoostingRegressor(n_estimators=300, learning_rate=0.05, max_depth = 5,\n",
    "                                min_samples_leaf=5, loss='squared_error', random_state =42, subsample=.4)"
   ]
  },
  {
   "cell_type": "code",
   "execution_count": 183,
   "id": "71b1342f-0081-444f-a802-705d2a47b66b",
   "metadata": {
    "tags": []
   },
   "outputs": [
    {
     "name": "stdout",
     "output_type": "stream",
     "text": [
      "rmse:  0.1184869610037478\n",
      "rmse:  0.1184869610037478\n"
     ]
    }
   ],
   "source": [
    "model_gbr1 = gbr1.fit(X_train, y_train)\n",
    "model_gbr2 = gbr2.fit(X_train, y_train)\n",
    "\n",
    "#predict value of sale price on the training set\n",
    "y_g1_pred = gbr1.predict(X_test)\n",
    "y_g2_pred = gbr2.predict(X_test)\n",
    "\n",
    "#caculate root mean square error\n",
    "rmse(y_g1_pred,y_test)\n",
    "rmse(y_g2_pred,y_test)"
   ]
  },
  {
   "cell_type": "code",
   "execution_count": null,
   "id": "d1ca0c91-2724-4883-9c78-35b516289ff6",
   "metadata": {},
   "outputs": [],
   "source": []
  },
  {
   "cell_type": "code",
   "execution_count": null,
   "id": "bd86cfed-22ac-43cf-9429-209ed384089d",
   "metadata": {},
   "outputs": [],
   "source": []
  },
  {
   "cell_type": "markdown",
   "id": "28b42865-3ba2-4f9d-8b16-33dc6abd6b6d",
   "metadata": {
    "tags": []
   },
   "source": [
    "### stack"
   ]
  },
  {
   "cell_type": "code",
   "execution_count": 184,
   "id": "ac1befbb-ab3b-48d3-a0bb-9cbc34fe7e90",
   "metadata": {
    "tags": []
   },
   "outputs": [],
   "source": [
    "from sklearn.ensemble import StackingRegressor"
   ]
  },
  {
   "cell_type": "code",
   "execution_count": 185,
   "id": "c0bbe9f1-4f19-4994-b813-9928d0980699",
   "metadata": {
    "tags": []
   },
   "outputs": [],
   "source": [
    "estimators = [('linear', reg),\n",
    "              (\"lasso\", lasso),\n",
    "              (\"gbr1\", gbr1),\n",
    "              (\"svr\",svr),\n",
    "              (\"forest\",rforest),\n",
    "              ('eidge', ridge)\n",
    "              ]"
   ]
  },
  {
   "cell_type": "code",
   "execution_count": 186,
   "id": "6ac7c788-c279-4f60-9c43-658e4a6dd8c1",
   "metadata": {
    "tags": []
   },
   "outputs": [],
   "source": [
    "stacked = StackingRegressor(estimators = estimators, final_estimator = svr, cv=8, passthrough=True )"
   ]
  },
  {
   "cell_type": "code",
   "execution_count": 187,
   "id": "a90f06bd-2bb0-440c-988c-e39c1018b1da",
   "metadata": {
    "tags": []
   },
   "outputs": [
    {
     "name": "stdout",
     "output_type": "stream",
     "text": [
      "rmse:  0.10687763633357607\n"
     ]
    }
   ],
   "source": [
    "#fit\n",
    "model_stack = stacked.fit(X_train, y_train)\n",
    "\n",
    "#predict value of sale price on the training set\n",
    "y9_pred = stacked.predict(X_test)\n",
    "\n",
    "#caculate root mean square error\n",
    "rmse(y9_pred,y_test)"
   ]
  },
  {
   "cell_type": "code",
   "execution_count": null,
   "id": "1ef4af26-57f9-44c1-bc41-6ea55651fec7",
   "metadata": {},
   "outputs": [],
   "source": []
  },
  {
   "cell_type": "code",
   "execution_count": null,
   "id": "2a3f33af-f973-4d8e-9a3f-afac4da16864",
   "metadata": {},
   "outputs": [],
   "source": []
  }
 ],
 "metadata": {
  "kernelspec": {
   "display_name": "Python 3 (ipykernel)",
   "language": "python",
   "name": "python3"
  },
  "language_info": {
   "codemirror_mode": {
    "name": "ipython",
    "version": 3
   },
   "file_extension": ".py",
   "mimetype": "text/x-python",
   "name": "python",
   "nbconvert_exporter": "python",
   "pygments_lexer": "ipython3",
   "version": "3.11.5"
  }
 },
 "nbformat": 4,
 "nbformat_minor": 5
}
